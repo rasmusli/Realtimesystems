{
 "cells": [
  {
   "cell_type": "markdown",
   "metadata": {},
   "source": [
    "# Imports"
   ]
  },
  {
   "cell_type": "code",
   "execution_count": 155,
   "metadata": {},
   "outputs": [],
   "source": [
    "import pandas as pd\n",
    "import matplotlib.pyplot as plt\n",
    "import random\n",
    "import numpy as np\n",
    "import math"
   ]
  },
  {
   "cell_type": "markdown",
   "metadata": {},
   "source": [
    "# Functions"
   ]
  },
  {
   "cell_type": "code",
   "execution_count": 156,
   "metadata": {},
   "outputs": [],
   "source": [
    "def normalize(dataframe):\n",
    "    \"\"\"\n",
    "    Receives a pandas dataframe and returns a normalized one\n",
    "    \"\"\"\n",
    "\n",
    "    normalizedDf = dataframe.copy()\n",
    "    for column in dataframe.columns:\n",
    "        maxVal = dataframe.loc[:,column].max()\n",
    "        normalizedDf[column] = dataframe[column] / dataframe[column].max()\n",
    "    return normalizedDf"
   ]
  },
  {
   "cell_type": "code",
   "execution_count": 157,
   "metadata": {},
   "outputs": [],
   "source": [
    "def sse(X, y, w):\n",
    "    error = y - X @ w\n",
    "    return error.T @ error"
   ]
  },
  {
   "cell_type": "code",
   "execution_count": 158,
   "metadata": {},
   "outputs": [],
   "source": [
    "def stochastic_descent(X , y, alpha, epochs):\n",
    "    w = np.array([[0.0, 0.0]])\n",
    "    w = w.T\n",
    "    random.seed(0)\n",
    "    shuffled = list(range(len(X)))\n",
    "    epochData = []\n",
    "    sseData = []\n",
    "    for epoch in range(epochs):\n",
    "        random.shuffle(shuffled)\n",
    "        wOld = w\n",
    "        for j in shuffled:\n",
    "            loss = y[j] - X[j] @ w\n",
    "            gradient = loss * X[j].reshape(-1,1)  #As described in 18.5 page 720\n",
    "            w = w + alpha * gradient\n",
    "        epochData.append(w)\n",
    "        sumErr = sse(X,y,w)\n",
    "        sseData.append(sumErr[0][0])\n",
    "        if np.linalg.norm(w-wOld)/ np.linalg.norm(w) < 0.0005:\n",
    "            print(\"Converged at epoch:\", epoch)\n",
    "            break\n",
    "    return w , epochData, sseData\n",
    "    "
   ]
  },
  {
   "cell_type": "code",
   "execution_count": 159,
   "metadata": {},
   "outputs": [],
   "source": [
    "def batch_descent(X, y, alpha, epochs):\n",
    "    \n",
    "    w = np.array([[0.0, 0.0]])\n",
    "    w = w.T\n",
    "    alpha = alpha/len(X)\n",
    "    epochData = []\n",
    "    for epoch in range(epochs):\n",
    "        w_old = w\n",
    "        loss = y - X @ w\n",
    "        gradient = X.T @ loss\n",
    "        wOld = w\n",
    "        w = w + alpha * gradient\n",
    "        epochData.append(w)\n",
    "        if np.linalg.norm(w-wOld)/ np.linalg.norm(w) < 0.0005:\n",
    "            print(\"Converged at epoch:\", epoch)\n",
    "            break\n",
    "    return w, epochData"
   ]
  },
  {
   "cell_type": "code",
   "execution_count": 160,
   "metadata": {},
   "outputs": [],
   "source": [
    "def perceptron(X, y, alpha):\n",
    "    w = np.array([np.zeros(X.shape[1])])\n",
    "    w = w.T    \n",
    "    correct = 0\n",
    "    epoch= 1\n",
    "    random.seed(0)\n",
    "    while(True):\n",
    "        random.seed(None)\n",
    "        j = random.randint(0,len(X)-1)\n",
    "        prediction = predict(X[j],w)\n",
    "        if prediction != y[j]:\n",
    "            corr = alpha*y[j]*X[j]\n",
    "            w = w + corr.reshape(-1,1)\n",
    "            correct = 0\n",
    "        else:\n",
    "            correct += 1\n",
    "        if correct > 100:\n",
    "            print(\"Perceptron done at: \", epoch)\n",
    "            break\n",
    "        epoch +=1\n",
    "            \n",
    "    return w"
   ]
  },
  {
   "cell_type": "code",
   "execution_count": null,
   "metadata": {},
   "outputs": [],
   "source": []
  },
  {
   "cell_type": "code",
   "execution_count": 161,
   "metadata": {},
   "outputs": [],
   "source": [
    "def predict(x, w):\n",
    "    prediction = x.T @ w\n",
    "    if prediction > 0:\n",
    "        res = 1\n",
    "    else:\n",
    "        res = -1\n",
    "    return res\n"
   ]
  },
  {
   "cell_type": "code",
   "execution_count": 162,
   "metadata": {},
   "outputs": [],
   "source": [
    "def logistic_regr(X, y, alpha):\n",
    "    w = np.array([np.zeros(X.shape[1])])\n",
    "    w = w.T\n",
    "    shuffled = list(range(len(X)))\n",
    "    epochData = []\n",
    "    epoch = 1\n",
    "    correct = 0\n",
    "    while(True):\n",
    "        j = random.randint(0,len(X)-1)\n",
    "        prediction = predict_r(X[j],w)\n",
    "        if prediction != y[j]:\n",
    "            sig = sigmoid(X[j],w)\n",
    "            loss = y[j] - sig\n",
    "            gradient = sig*(1-sig)\n",
    "            w = w + alpha*gradient*loss*X[j].reshape(-1,1)\n",
    "            correct = 0\n",
    "        else:\n",
    "            correct +=1\n",
    "\n",
    "        if correct > 100:\n",
    "            print(\"Converged at epoch:\", epoch)\n",
    "            break\n",
    "        epoch += 1\n",
    "            \n",
    "    return w\n",
    "            \n",
    "    \n",
    "    "
   ]
  },
  {
   "cell_type": "code",
   "execution_count": 163,
   "metadata": {},
   "outputs": [],
   "source": [
    "def predict_r(x, w):\n",
    "    prediction = x.T @ w\n",
    "    if prediction > 0:\n",
    "        res = 1\n",
    "    else:\n",
    "        res = 0\n",
    "    return res"
   ]
  },
  {
   "cell_type": "code",
   "execution_count": 164,
   "metadata": {},
   "outputs": [],
   "source": [
    "def sigmoid(x, w):\n",
    "    prediction = x.T @ w\n",
    "    \n",
    "    sig = 1/(1+math.exp(-prediction))\n",
    "    \n",
    "    return sig"
   ]
  },
  {
   "cell_type": "markdown",
   "metadata": {},
   "source": [
    "# Solution"
   ]
  },
  {
   "cell_type": "markdown",
   "metadata": {},
   "source": [
    "## Linear Regression"
   ]
  },
  {
   "cell_type": "markdown",
   "metadata": {},
   "source": [
    "### Format Data"
   ]
  },
  {
   "cell_type": "code",
   "execution_count": 165,
   "metadata": {},
   "outputs": [],
   "source": [
    "enData = pd.read_csv('https://raw.githubusercontent.com/pnugues/ilppp/master/programs/ch04/salammbo/salammbo_a_en.tsv', delimiter='\\t',names=['Count Characters', 'Count A'])\n",
    "frData = pd.read_csv('https://raw.githubusercontent.com/pnugues/ilppp/master/programs/ch04/salammbo/salammbo_a_fr.tsv', delimiter='\\t',names=['Count Characters', 'Count A'])"
   ]
  },
  {
   "cell_type": "code",
   "execution_count": 166,
   "metadata": {},
   "outputs": [
    {
     "name": "stdout",
     "output_type": "stream",
     "text": [
      "    Count Characters  Count A\n",
      "0              35680     2217\n",
      "1              42514     2761\n",
      "2              15162      990\n",
      "3              35298     2274\n",
      "4              29800     1865\n",
      "5              40255     2606\n",
      "6              74532     4805\n",
      "7              37464     2396\n",
      "8              31030     1993\n",
      "9              24843     1627\n",
      "10             36172     2375\n",
      "11             39552     2560\n",
      "12             72545     4597\n",
      "13             75352     4871\n",
      "14             18031     1119\n",
      "    Count Characters  Count A\n",
      "0              36961     2503\n",
      "1              43621     2992\n",
      "2              15694     1042\n",
      "3              36231     2487\n",
      "4              29945     2014\n",
      "5              40588     2805\n",
      "6              75255     5062\n",
      "7              37709     2643\n",
      "8              30899     2126\n",
      "9              25486     1784\n",
      "10             37497     2641\n",
      "11             40398     2766\n",
      "12             74105     5047\n",
      "13             76725     5312\n",
      "14             18317     1215\n"
     ]
    },
    {
     "data": {
      "image/png": "[encoded data removed]",
      "text/plain": [
       "<Figure size 432x288 with 1 Axes>"
      ]
     },
     "metadata": {
      "needs_background": "light"
     },
     "output_type": "display_data"
    }
   ],
   "source": [
    "plt.scatter(enData['Count Characters'],enData['Count A'],color='r',label='English')\n",
    "plt.scatter(frData['Count Characters'],frData['Count A'],color='b',label='French')\n",
    "plt.legend()\n",
    "print(enData)\n",
    "print(frData)"
   ]
  },
  {
   "cell_type": "markdown",
   "metadata": {},
   "source": [
    "Now, let's normalize the data:"
   ]
  },
  {
   "cell_type": "code",
   "execution_count": 167,
   "metadata": {},
   "outputs": [
    {
     "name": "stdout",
     "output_type": "stream",
     "text": [
      "Normalized english data:\n",
      "    Count Characters   Count A\n",
      "0           0.473511  0.455143\n",
      "1           0.564205  0.566824\n",
      "2           0.201216  0.203244\n",
      "3           0.468441  0.466845\n",
      "4           0.395477  0.382878\n",
      "5           0.534226  0.535003\n",
      "6           0.989118  0.986450\n",
      "7           0.497187  0.491891\n",
      "8           0.411801  0.409156\n",
      "9           0.329693  0.334018\n",
      "10          0.480040  0.487580\n",
      "11          0.524896  0.525559\n",
      "12          0.962748  0.943749\n",
      "13          1.000000  1.000000\n",
      "14          0.239290  0.229727\n",
      "    Count Characters   Count A\n",
      "0           0.481733  0.471197\n",
      "1           0.568537  0.563253\n",
      "2           0.204549  0.196160\n",
      "3           0.472219  0.468185\n",
      "4           0.390290  0.379142\n",
      "5           0.529006  0.528050\n",
      "6           0.980841  0.952937\n",
      "7           0.491483  0.497553\n",
      "8           0.402724  0.400226\n",
      "9           0.332173  0.335843\n",
      "10          0.488719  0.497176\n",
      "11          0.526530  0.520708\n",
      "12          0.965852  0.950113\n",
      "13          1.000000  1.000000\n",
      "14          0.238736  0.228727\n"
     ]
    }
   ],
   "source": [
    "nDfEn = normalize(enData)\n",
    "X = np.array(nDfEn['Count Characters'])\n",
    "y = np.array([nDfEn['Count A']])\n",
    "X_en = np.c_[np.ones(len(X)),X]\n",
    "y_en = y.T\n",
    "print(\"Normalized english data:\")\n",
    "print(nDfEn)\n",
    "nDfFr = normalize(frData)\n",
    "X = np.array(nDfFr['Count Characters'])\n",
    "y = np.array([nDfFr['Count A']])\n",
    "X_fr = np.c_[np.ones(len(X)),X]\n",
    "y_fr = y.T\n",
    "print(nDfFr)"
   ]
  },
  {
   "cell_type": "markdown",
   "metadata": {},
   "source": [
    "### Stochastic descent"
   ]
  },
  {
   "cell_type": "code",
   "execution_count": 168,
   "metadata": {},
   "outputs": [
    {
     "name": "stdout",
     "output_type": "stream",
     "text": [
      "Converged at epoch: 240\n",
      "[[0.00114653]\n",
      " [0.99611361]]\n"
     ]
    },
    {
     "data": {
      "text/plain": [
       "Text(0.5, 1.0, 'English data')"
      ]
     },
     "execution_count": 168,
     "metadata": {},
     "output_type": "execute_result"
    },
    {
     "data": {
      "image/png": "[encoded data removed]",
      "text/plain": [
       "<Figure size 432x288 with 1 Axes>"
      ]
     },
     "metadata": {
      "needs_background": "light"
     },
     "output_type": "display_data"
    }
   ],
   "source": [
    "#English Data\n",
    "alpha = 0.5\n",
    "epochs = 500\n",
    "w,epochData,sseData = stochastic_descent(X_en, y_en, alpha, epochs)\n",
    "print(w)\n",
    "xMin = enData['Count Characters'].min()\n",
    "xMax = enData['Count Characters'].max()\n",
    "yMin = enData['Count A'].min()\n",
    "yMax = enData['Count A'].max()\n",
    "\n",
    "plt.plot([xMin, xMax],\n",
    "         [[1, yMin] @ w, [1, yMax] @ w])\n",
    "plt.scatter(enData['Count Characters'],enData['Count A'],color='b')\n",
    "plt.title(\"English data\")"
   ]
  },
  {
   "cell_type": "code",
   "execution_count": 169,
   "metadata": {},
   "outputs": [
    {
     "data": {
      "text/plain": [
       "<matplotlib.collections.PathCollection at 0x123be5ed0>"
      ]
     },
     "execution_count": 169,
     "metadata": {},
     "output_type": "execute_result"
    },
    {
     "data": {
      "image/png": "[encoded data removed]",
      "text/plain": [
       "<Figure size 432x288 with 1 Axes>"
      ]
     },
     "metadata": {
      "needs_background": "light"
     },
     "output_type": "display_data"
    }
   ],
   "source": [
    "x_plot = np.arange(len(sseData))\n",
    "plt.scatter(x_plot,sseData)"
   ]
  },
  {
   "cell_type": "code",
   "execution_count": 170,
   "metadata": {},
   "outputs": [
    {
     "name": "stdout",
     "output_type": "stream",
     "text": [
      "Converged at epoch: 102\n",
      "[[0.00682191]\n",
      " [0.99067134]]\n"
     ]
    },
    {
     "data": {
      "text/plain": [
       "Text(0.5, 1.0, 'French data')"
      ]
     },
     "execution_count": 170,
     "metadata": {},
     "output_type": "execute_result"
    },
    {
     "data": {
      "image/png": "[encoded data removed]",
      "text/plain": [
       "<Figure size 432x288 with 1 Axes>"
      ]
     },
     "metadata": {
      "needs_background": "light"
     },
     "output_type": "display_data"
    }
   ],
   "source": [
    "#French Data\n",
    "alpha = 0.5\n",
    "epochs = 500\n",
    "w,epochData,sseData = stochastic_descent(X_fr, y_fr, alpha, epochs)\n",
    "\n",
    "print(w)\n",
    "xMin = frData['Count Characters'].min()\n",
    "xMax = frData['Count Characters'].max()\n",
    "yMin = frData['Count A'].min()\n",
    "yMax = frData['Count A'].max()\n",
    "plt.plot([xMin, xMax],\n",
    "         [[1, yMin] @ w, [1, yMax] @ w])\n",
    "plt.scatter(frData['Count Characters'],frData['Count A'],color='b')\n",
    "plt.title('French data')"
   ]
  },
  {
   "cell_type": "markdown",
   "metadata": {},
   "source": [
    "##### Visualize what happens with regression line during first epochs"
   ]
  },
  {
   "cell_type": "code",
   "execution_count": 171,
   "metadata": {
    "scrolled": true
   },
   "outputs": [
    {
     "data": {
      "text/plain": [
       "Text(0.5, 1.0, 'English data')"
      ]
     },
     "execution_count": 171,
     "metadata": {},
     "output_type": "execute_result"
    },
    {
     "data": {
      "image/png": "[encoded data removed]",
      "text/plain": [
       "<Figure size 432x288 with 1 Axes>"
      ]
     },
     "metadata": {
      "needs_background": "light"
     },
     "output_type": "display_data"
    }
   ],
   "source": [
    "#English data\n",
    "epochs = 8 #Limit epochs to 8 for visualisation purposes during first epochs\n",
    "w,epochData,sseData = stochastic_descent(X_en, y_en, alpha, epochs)\n",
    "\n",
    "count=1\n",
    "for wLog in epochData:\n",
    "    plt.plot(wLog, label = 'Epoch: ' + str(count))\n",
    "    count+=1\n",
    "\n",
    "plt.scatter(nDfEn['Count Characters'],nDfEn['Count A'],color='b')\n",
    "plt.legend()\n",
    "plt.title('English data')"
   ]
  },
  {
   "cell_type": "code",
   "execution_count": 172,
   "metadata": {},
   "outputs": [
    {
     "data": {
      "text/plain": [
       "Text(0.5, 1.0, 'French data')"
      ]
     },
     "execution_count": 172,
     "metadata": {},
     "output_type": "execute_result"
    },
    {
     "data": {
      "image/png": "[encoded data removed]",
      "text/plain": [
       "<Figure size 432x288 with 1 Axes>"
      ]
     },
     "metadata": {
      "needs_background": "light"
     },
     "output_type": "display_data"
    }
   ],
   "source": [
    "#French data\n",
    "epochs = 8 #Limit epochs to 8 for visualisation purposes during first epochs\n",
    "w,epochData, sseData = stochastic_descent(X_fr, y_fr, alpha, epochs)\n",
    "\n",
    "count=1\n",
    "for wLog in epochData:\n",
    "    plt.plot(wLog, label = 'Epoch: ' + str(count))\n",
    "    count+=1\n",
    "    \n",
    "plt.scatter(nDfFr['Count Characters'],nDfFr['Count A'],color='b')\n",
    "plt.legend()\n",
    "plt.title('French data')"
   ]
  },
  {
   "cell_type": "markdown",
   "metadata": {},
   "source": [
    "### Batch descent"
   ]
  },
  {
   "cell_type": "code",
   "execution_count": 173,
   "metadata": {},
   "outputs": [
    {
     "name": "stdout",
     "output_type": "stream",
     "text": [
      "Converged at epoch: 94\n",
      "[[0.00423886]\n",
      " [0.98588298]]\n"
     ]
    },
    {
     "data": {
      "text/plain": [
       "<matplotlib.collections.PathCollection at 0x124082f90>"
      ]
     },
     "execution_count": 173,
     "metadata": {},
     "output_type": "execute_result"
    },
    {
     "data": {
      "image/png": "[encoded data removed]",
      "text/plain": [
       "<Figure size 432x288 with 1 Axes>"
      ]
     },
     "metadata": {
      "needs_background": "light"
     },
     "output_type": "display_data"
    }
   ],
   "source": [
    "alpha = 1\n",
    "epochs = 500\n",
    "w, epochData = batch_descent(X_en, y_en, alpha, epochs)\n",
    "\n",
    "print(w)\n",
    "xMin = enData['Count Characters'].min()\n",
    "xMax = enData['Count Characters'].max()\n",
    "yMin = enData['Count A'].min()\n",
    "yMax = enData['Count A'].max()\n",
    "\n",
    "plt.plot([xMin, xMax],\n",
    "         [[1, yMin] @ w, [1, yMax] @ w])\n",
    "plt.scatter(enData['Count Characters'],enData['Count A'],color='b')"
   ]
  },
  {
   "cell_type": "code",
   "execution_count": 174,
   "metadata": {},
   "outputs": [
    {
     "name": "stdout",
     "output_type": "stream",
     "text": [
      "Converged at epoch: 95\n",
      "[[0.00648118]\n",
      " [0.97794734]]\n"
     ]
    },
    {
     "data": {
      "text/plain": [
       "<matplotlib.collections.PathCollection at 0x124153410>"
      ]
     },
     "execution_count": 174,
     "metadata": {},
     "output_type": "execute_result"
    },
    {
     "data": {
      "image/png": "[encoded data removed]",
      "text/plain": [
       "<Figure size 432x288 with 1 Axes>"
      ]
     },
     "metadata": {
      "needs_background": "light"
     },
     "output_type": "display_data"
    }
   ],
   "source": [
    "alpha = 1\n",
    "epochs = 500\n",
    "w,epochData = batch_descent(X_fr, y_fr, alpha, epochs)\n",
    "\n",
    "print(w)\n",
    "xMin = frData['Count Characters'].min()\n",
    "xMax = frData['Count Characters'].max()\n",
    "yMin = frData['Count A'].min()\n",
    "yMax = frData['Count A'].max()\n",
    "\n",
    "plt.plot([xMin, xMax],\n",
    "         [[1, yMin] @ w, [1, yMax] @ w])\n",
    "plt.scatter(frData['Count Characters'],frData['Count A'],color='b')"
   ]
  },
  {
   "cell_type": "markdown",
   "metadata": {},
   "source": [
    "## Perceptron"
   ]
  },
  {
   "cell_type": "markdown",
   "metadata": {},
   "source": [
    "We will now label english and french dataset. We label french as 1 and english as -1."
   ]
  },
  {
   "cell_type": "code",
   "execution_count": 175,
   "metadata": {},
   "outputs": [],
   "source": [
    "frData = pd.read_csv('https://raw.githubusercontent.com/pnugues/ilppp/master/programs/ch04/salammbo/salammbo_a_fr.tsv', delimiter='\\t',names=['Count Characters', 'Count A'])"
   ]
  },
  {
   "cell_type": "code",
   "execution_count": 176,
   "metadata": {},
   "outputs": [],
   "source": [
    "enData = pd.read_csv('https://raw.githubusercontent.com/pnugues/ilppp/master/programs/ch04/salammbo/salammbo_a_en.tsv', delimiter='\\t',names=['Count Characters', 'Count A'])"
   ]
  },
  {
   "cell_type": "code",
   "execution_count": 177,
   "metadata": {},
   "outputs": [
    {
     "data": {
      "image/png": "[encoded data removed]",
      "text/plain": [
       "<Figure size 432x288 with 1 Axes>"
      ]
     },
     "metadata": {
      "needs_background": "light"
     },
     "output_type": "display_data"
    }
   ],
   "source": [
    "data = frData.append(enData, ignore_index=True)\n",
    "X = normalize(data)\n",
    "plt.scatter(frData.iloc[:,0],frData.iloc[:,1], color = 'b', label='French')\n",
    "plt.scatter(enData.iloc[:,0],enData.iloc[:,1], color = 'r', label='English')\n",
    "plt.legend()\n",
    "X = np.c_[np.ones(len(X)),X]\n",
    "y_fr = np.array([np.ones(len(frData))]).T\n",
    "y_en = np.array([np.ones(len(enData))]).T\n",
    "y_en = np.negative(y_en)\n",
    "y = np.append(y_fr,y_en)\n",
    "y = y.reshape(-1,1)\n"
   ]
  },
  {
   "cell_type": "markdown",
   "metadata": {},
   "source": [
    "We will now train a perceptron to classify english and french."
   ]
  },
  {
   "cell_type": "code",
   "execution_count": 178,
   "metadata": {},
   "outputs": [
    {
     "name": "stdout",
     "output_type": "stream",
     "text": [
      "Perceptron done at:  1591\n",
      "w =  [[ 0.        ]\n",
      " [-0.02861473]\n",
      " [ 0.02995858]]\n"
     ]
    },
    {
     "data": {
      "text/plain": [
       "<matplotlib.legend.Legend at 0x12433e2d0>"
      ]
     },
     "execution_count": 178,
     "metadata": {},
     "output_type": "execute_result"
    },
    {
     "data": {
      "image/png": "[encoded data removed]",
      "text/plain": [
       "<Figure size 432x288 with 1 Axes>"
      ]
     },
     "metadata": {
      "needs_background": "light"
     },
     "output_type": "display_data"
    }
   ],
   "source": [
    "alpha = 0.005\n",
    "w = perceptron(X,y, alpha)\n",
    "print(\"w = \", w)\n",
    "intercept = -w[0]/w[2]\n",
    "slope = -w[1]/w[2]\n",
    "W = np.append(intercept,slope).reshape(-1,1)\n",
    "\n",
    "xMin = data['Count Characters'].min()\n",
    "xMax = data['Count Characters'].max()\n",
    "yMin = data['Count A'].min()\n",
    "yMax = data['Count A'].max()\n",
    "\n",
    "plt.plot([xMin, xMax],\n",
    "         [[1, yMin] @ W, [1, yMax] @ W])\n",
    "plt.scatter(frData.iloc[:,0],frData.iloc[:,1], color = 'b', label='French')\n",
    "plt.scatter(enData.iloc[:,0],enData.iloc[:,1], color = 'r', label='English')\n",
    "plt.legend()"
   ]
  },
  {
   "cell_type": "markdown",
   "metadata": {},
   "source": [
    "Perceptron seems to be working. Let's evaluate with cross validation."
   ]
  },
  {
   "cell_type": "markdown",
   "metadata": {},
   "source": [
    "### Cross validation"
   ]
  },
  {
   "cell_type": "code",
   "execution_count": 179,
   "metadata": {},
   "outputs": [
    {
     "name": "stdout",
     "output_type": "stream",
     "text": [
      "Perceptron done at:  498\n",
      "Perceptron done at:  956\n",
      "Perceptron done at:  989\n",
      "Perceptron done at:  121\n",
      "Perceptron done at:  1026\n",
      "Perceptron done at:  1424\n",
      "Perceptron done at:  507\n",
      "Perceptron done at:  582\n",
      "Perceptron done at:  610\n",
      "Perceptron done at:  1100\n",
      "Perceptron done at:  1967\n",
      "Perceptron done at:  567\n",
      "Perceptron done at:  913\n",
      "Perceptron done at:  406\n",
      "Perceptron done at:  970\n",
      "Perceptron done at:  1100\n",
      "Perceptron done at:  1303\n",
      "Perceptron done at:  889\n",
      "Perceptron done at:  661\n",
      "Perceptron done at:  1536\n",
      "Perceptron done at:  1499\n",
      "Perceptron done at:  532\n",
      "Perceptron done at:  512\n",
      "Perceptron done at:  1410\n",
      "Perceptron done at:  965\n",
      "Perceptron done at:  463\n",
      "Perceptron done at:  449\n",
      "Perceptron done at:  2244\n",
      "Perceptron done at:  1408\n",
      "Perceptron done at:  616\n",
      "Accuracy:  0.9666666666666667\n"
     ]
    }
   ],
   "source": [
    "correct= 0\n",
    "runs = 30\n",
    "for i in range(0,runs):\n",
    "    X_train = np.copy(X)\n",
    "    y_train = np.copy(y)\n",
    "    X_test = X_train[i]\n",
    "    y_test = y_train[i]\n",
    "    X_train = np.delete(X_train,i,0)\n",
    "    y_train = np.delete(y_train,i,0)\n",
    "    \n",
    "    w = perceptron(X_train, y_train, alpha)\n",
    "    \n",
    "    prediction = predict(X_test,w)\n",
    "    if(prediction == y_test):\n",
    "        correct += 1\n",
    "\n",
    "acc = correct/runs\n",
    "print(\"Accuracy: \", acc)\n",
    "    "
   ]
  },
  {
   "cell_type": "markdown",
   "metadata": {},
   "source": [
    "At first I had a stopping criteria of 30, I could then only reach a accuracy of around 78%. I then increased the stopping critieria to 100, together with reducing the stepsize alpha to 0.005, and the result was a 100% accuracy."
   ]
  },
  {
   "cell_type": "markdown",
   "metadata": {},
   "source": [
    "## Logistic regression"
   ]
  },
  {
   "cell_type": "code",
   "execution_count": 180,
   "metadata": {},
   "outputs": [
    {
     "name": "stdout",
     "output_type": "stream",
     "text": [
      "Converged at epoch: 1421\n",
      "W =  [[ 6.09736949e-07]\n",
      " [-3.12250341e-03]\n",
      " [ 3.27934307e-03]]\n"
     ]
    },
    {
     "data": {
      "text/plain": [
       "<matplotlib.legend.Legend at 0x124433950>"
      ]
     },
     "execution_count": 180,
     "metadata": {},
     "output_type": "execute_result"
    },
    {
     "data": {
      "image/png": "[encoded data removed]",
      "text/plain": [
       "<Figure size 432x288 with 1 Axes>"
      ]
     },
     "metadata": {
      "needs_background": "light"
     },
     "output_type": "display_data"
    }
   ],
   "source": [
    "y_fr = np.array([np.ones(len(frData))])\n",
    "y_en = np.array([np.zeros(len(enData))])\n",
    "y = np.append(y_fr,y_en)\n",
    "y = y.reshape(-1,1)\n",
    "\n",
    "alpha = 0.005\n",
    "w = logistic_regr(X,y,alpha)\n",
    "print(\"W = \", w)\n",
    "intercept = -w[0]/w[2]\n",
    "slope = -w[1]/w[2]\n",
    "\n",
    "W = np.append(intercept,slope).reshape(-1,1)\n",
    "\n",
    "xMin = data['Count Characters'].min()\n",
    "xMax = data['Count Characters'].max()\n",
    "yMin = data['Count A'].min()\n",
    "yMax = data['Count A'].max()\n",
    "\n",
    "plt.plot([xMin, xMax],\n",
    "         [[1, yMin] @ W, [1, yMax] @ W],'--')\n",
    "\n",
    "plt.scatter(frData.iloc[:,0],frData.iloc[:,1], color = 'b', label='French')\n",
    "plt.scatter(enData.iloc[:,0],enData.iloc[:,1], color = 'r', label='English')\n",
    "plt.legend()"
   ]
  },
  {
   "cell_type": "markdown",
   "metadata": {},
   "source": [
    "### Cross validation"
   ]
  },
  {
   "cell_type": "code",
   "execution_count": 181,
   "metadata": {},
   "outputs": [
    {
     "name": "stdout",
     "output_type": "stream",
     "text": [
      "Run:  0\n",
      "Converged at epoch: 695\n",
      "Run:  1\n",
      "Converged at epoch: 1240\n",
      "Run:  2\n",
      "Converged at epoch: 1956\n",
      "Run:  3\n",
      "Converged at epoch: 2046\n",
      "Run:  4\n",
      "Converged at epoch: 2831\n",
      "Run:  5\n",
      "Converged at epoch: 812\n",
      "Run:  6\n",
      "Converged at epoch: 1049\n",
      "Run:  7\n",
      "Converged at epoch: 2582\n",
      "Run:  8\n",
      "Converged at epoch: 1504\n",
      "Run:  9\n",
      "Converged at epoch: 1536\n",
      "Run:  10\n",
      "Converged at epoch: 1129\n",
      "Run:  11\n",
      "Converged at epoch: 629\n",
      "Run:  12\n",
      "Converged at epoch: 1636\n",
      "Run:  13\n",
      "Converged at epoch: 1260\n",
      "Run:  14\n",
      "Converged at epoch: 826\n",
      "Run:  15\n",
      "Converged at epoch: 1093\n",
      "Run:  16\n",
      "Converged at epoch: 1304\n",
      "Run:  17\n",
      "Converged at epoch: 2352\n",
      "Run:  18\n",
      "Converged at epoch: 421\n",
      "Run:  19\n",
      "Converged at epoch: 1812\n",
      "Run:  20\n",
      "Converged at epoch: 1774\n",
      "Run:  21\n",
      "Converged at epoch: 1799\n",
      "Run:  22\n",
      "Converged at epoch: 2322\n",
      "Run:  23\n",
      "Converged at epoch: 476\n",
      "Run:  24\n",
      "Converged at epoch: 647\n",
      "Run:  25\n",
      "Converged at epoch: 1191\n",
      "Run:  26\n",
      "Converged at epoch: 2084\n",
      "Run:  27\n",
      "Converged at epoch: 2187\n",
      "Run:  28\n",
      "Converged at epoch: 2521\n",
      "Run:  29\n",
      "Converged at epoch: 1328\n",
      "Accuracy:  0.9666666666666667\n",
      "[array([1.        , 0.20454871, 0.19615964])]\n",
      "0.2045487129358097 0.19615963855421686\n"
     ]
    },
    {
     "data": {
      "image/png": "[encoded data removed]",
      "text/plain": [
       "<Figure size 432x288 with 1 Axes>"
      ]
     },
     "metadata": {
      "needs_background": "light"
     },
     "output_type": "display_data"
    }
   ],
   "source": [
    "correct= 0\n",
    "runs = 30\n",
    "failure=[]\n",
    "for i in range(0,runs):\n",
    "    print(\"Run: \", i)\n",
    "    X_train = np.copy(X)\n",
    "    y_train = np.copy(y)\n",
    "    X_test = X_train[i]\n",
    "    y_test = y_train[i]\n",
    "    X_train = np.delete(X_train,i,0)\n",
    "    y_train = np.delete(y_train,i,0)\n",
    "    \n",
    "    w = logistic_regr(X_train, y_train, alpha)\n",
    "    \n",
    "    prediction = predict_r(X_test,w)\n",
    "    if(prediction == y_test):\n",
    "        correct += 1\n",
    "    else:\n",
    "        failure.append(X[i])\n",
    "\n",
    "acc = correct/runs\n",
    "print(\"Accuracy: \", acc)\n",
    "plt.scatter(X[:,1],X[:,2],color='g')\n",
    "try:\n",
    "    print(failure)\n",
    "    print(failure[0][1],failure[0][2])\n",
    "    plt.scatter(failure[0][1],failure[0][2],color='r')\n",
    "except:\n",
    "    pass\n",
    "\n"
   ]
  }
 ],
 "metadata": {
  "kernelspec": {
   "display_name": "Python 3",
   "language": "python",
   "name": "python3"
  },
  "language_info": {
   "codemirror_mode": {
    "name": "ipython",
    "version": 3
   },
   "file_extension": ".py",
   "mimetype": "text/x-python",
   "name": "python",
   "nbconvert_exporter": "python",
   "pygments_lexer": "ipython3",
   "version": "3.7.4"
  }
 },
 "nbformat": 4,
 "nbformat_minor": 2
}
